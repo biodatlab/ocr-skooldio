{
 "cells": [
  {
   "cell_type": "markdown",
   "metadata": {},
   "source": [
    "# Install the required packages"
   ]
  },
  {
   "cell_type": "code",
   "execution_count": null,
   "metadata": {},
   "outputs": [],
   "source": [
    "%%capture\n",
    "!pip install transformers sentencepiece"
   ]
  },
  {
   "cell_type": "markdown",
   "metadata": {},
   "source": [
    "# Load the Donut model"
   ]
  },
  {
   "cell_type": "code",
   "execution_count": null,
   "metadata": {},
   "outputs": [],
   "source": [
    "import torch\n",
    "\n",
    "device = \"cpu\"\n",
    "# Use mps if available\n",
    "if torch.backends.mps.is_available():\n",
    "    device = \"mps\"\n",
    "elif torch.cuda.is_available():\n",
    "    device = \"cuda\""
   ]
  },
  {
   "cell_type": "code",
   "execution_count": null,
   "metadata": {},
   "outputs": [],
   "source": [
    "from transformers import VisionEncoderDecoderModel, DonutProcessor\n",
    "\n",
    "checkpoint_name = \"naver-clova-ix/donut-base-finetuned-docvqa\"\n",
    "\n",
    "model = VisionEncoderDecoderModel.from_pretrained(checkpoint_name).to(device)\n",
    "processor = DonutProcessor.from_pretrained(checkpoint_name)"
   ]
  },
  {
   "cell_type": "markdown",
   "metadata": {},
   "source": [
    "# Load document"
   ]
  },
  {
   "cell_type": "code",
   "execution_count": null,
   "metadata": {},
   "outputs": [],
   "source": [
    "from PIL import Image\n",
    "\n",
    "path = \"../assets/donut_receipt_example.jpg\"\n",
    "image = Image.open(path).convert(\"RGB\")\n",
    "\n",
    "display(image)"
   ]
  },
  {
   "cell_type": "markdown",
   "metadata": {},
   "source": [
    "# Run inference"
   ]
  },
  {
   "cell_type": "code",
   "execution_count": null,
   "metadata": {},
   "outputs": [],
   "source": [
    "import re\n",
    "\n",
    "questions = [\n",
    "    \"How much is the Chocolate Soft Cookie?\",\n",
    "    \"What is the TAX ID?\",\n",
    "    \"What is the total quantity of Cold Brew Latte?\",\n",
    "]\n",
    "\n",
    "for question in questions:\n",
    "    task_prompt = \"<s_docvqa><s_question>{user_input}</s_question><s_answer>\"\n",
    "    prompt = task_prompt.format(user_input=question)\n",
    "    # Tokenize the prompt into input_ids\n",
    "    decoder_input_ids = processor.tokenizer(\n",
    "        prompt, add_special_tokens=False, return_tensors=\"pt\"\n",
    "    ).input_ids\n",
    "    # Convert the image into pixel_values\n",
    "    pixel_values = processor(image, return_tensors=\"pt\").pixel_values\n",
    "\n",
    "    outputs = model.generate(\n",
    "        pixel_values.to(device),\n",
    "        decoder_input_ids=decoder_input_ids.to(device),\n",
    "        max_length=model.decoder.config.max_position_embeddings,\n",
    "        pad_token_id=processor.tokenizer.pad_token_id,\n",
    "        eos_token_id=processor.tokenizer.eos_token_id,\n",
    "        use_cache=True,\n",
    "        bad_words_ids=[[processor.tokenizer.unk_token_id]],\n",
    "        return_dict_in_generate=True,\n",
    "    )\n",
    "\n",
    "    sequence = processor.batch_decode(outputs.sequences)[0]\n",
    "    sequence = sequence.replace(processor.tokenizer.eos_token, \"\").replace(\n",
    "        processor.tokenizer.pad_token, \"\"\n",
    "    )\n",
    "    sequence = re.sub(\n",
    "        r\"<.*?>\", \"\", sequence, count=1\n",
    "    ).strip()  # remove first task start token\n",
    "    print(processor.token2json(sequence))"
   ]
  },
  {
   "cell_type": "markdown",
   "metadata": {},
   "source": [
    "## Quiz\n",
    "\n",
    "- ลอง prompt ด้วยคำสั่งด้านบน แต่ใช้ภาพเล่มทะเบียนแทน\n",
    "- ตรวจสอบผลว่าแม่นยำขนาดไหน (hint: Donut ยังทำงานได้ไม่ค่อยดีในภาพภาษาไทย)"
   ]
  }
 ],
 "metadata": {
  "kernelspec": {
   "display_name": "Python 3",
   "language": "python",
   "name": "python3"
  },
  "language_info": {
   "codemirror_mode": {
    "name": "ipython",
    "version": 3
   },
   "file_extension": ".py",
   "mimetype": "text/x-python",
   "name": "python",
   "nbconvert_exporter": "python",
   "pygments_lexer": "ipython3",
   "version": "3.8.8"
  }
 },
 "nbformat": 4,
 "nbformat_minor": 2
}
