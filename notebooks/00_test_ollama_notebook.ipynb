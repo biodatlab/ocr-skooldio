{
 "cells": [
  {
   "cell_type": "markdown",
   "id": "bd1afc44-41d2-402e-9c80-2956ff7509b8",
   "metadata": {},
   "source": [
    "## Install Ollama and Run Ollama on Local Machine\n",
    "\n",
    "- ดาวน์โหลด Ollama จาก https://ollama.com/\n",
    "- รัน\n",
    "``` sh\n",
    "ollama run llama3.1\n",
    "ollama run llama3.2\n",
    "```\n",
    "- install ไลบรารี่ที่เกี่ยวข้องและทดลองเรียก Ollama ผ่าน Langchain"
   ]
  },
  {
   "cell_type": "code",
   "execution_count": null,
   "id": "e2a7335b-b007-4f95-8a92-7069ef6652bf",
   "metadata": {},
   "outputs": [],
   "source": [
    "!pip install langchain\n",
    "!pip install langchain_community"
   ]
  },
  {
   "cell_type": "code",
   "execution_count": null,
   "id": "04da3ed5-5b3f-49a8-a0d2-deb17cb74142",
   "metadata": {},
   "outputs": [],
   "source": [
    "# Code from https://stackoverflow.com/a/78430197/3626961\n",
    "from langchain_community.llms import Ollama\n",
    "from langchain import PromptTemplate # Added\n",
    "\n",
    "llm = Ollama(model=\"llama3.1\", stop=[\"<|eot_id|>\"]) # Added stop token\n",
    "\n",
    "def get_model_response(user_prompt, system_prompt):\n",
    "    # NOTE: No f string and no whitespace in curly braces\n",
    "    template = \"\"\"\n",
    "        <|begin_of_text|>\n",
    "        <|start_header_id|>system<|end_header_id|>\n",
    "        {system_prompt}\n",
    "        <|eot_id|>\n",
    "        <|start_header_id|>user<|end_header_id|>\n",
    "        {user_prompt}\n",
    "        <|eot_id|>\n",
    "        <|start_header_id|>assistant<|end_header_id|>\n",
    "        \"\"\"\n",
    "\n",
    "    # Added prompt template\n",
    "    prompt = PromptTemplate(\n",
    "        input_variables=[\"system_prompt\", \"user_prompt\"],\n",
    "        template=template\n",
    "    )\n",
    "\n",
    "    # Modified invoking the model\n",
    "    response = llm(prompt.format(system_prompt=system_prompt, user_prompt=user_prompt))\n",
    "\n",
    "    return response\n",
    "\n",
    "# Example\n",
    "user_prompt = \"What is 1 + 1?\"\n",
    "system_prompt = \"You are a helpful assistant doing as the given prompt.\"\n",
    "get_model_response(user_prompt, system_prompt)"
   ]
  }
 ],
 "metadata": {
  "kernelspec": {
   "display_name": "Python 3 (ipykernel)",
   "language": "python",
   "name": "python3"
  },
  "language_info": {
   "codemirror_mode": {
    "name": "ipython",
    "version": 3
   },
   "file_extension": ".py",
   "mimetype": "text/x-python",
   "name": "python",
   "nbconvert_exporter": "python",
   "pygments_lexer": "ipython3",
   "version": "3.12.2"
  }
 },
 "nbformat": 4,
 "nbformat_minor": 5
}
