{
 "cells": [
  {
   "cell_type": "markdown",
   "metadata": {},
   "source": [
    "# Text Detection with EasyOCR\n",
    "\n",
    "This notebook will demonstrate how to use `EasyOCR` to detect text in an image. EasyOCR is a Python library that can perform Optical Character Recognition (OCR) with a few lines of code.\n",
    "\n",
    "## Installation\n",
    "\n",
    "First, we need to install the `EasyOCR` library. You can install it using pip."
   ]
  },
  {
   "cell_type": "code",
   "execution_count": null,
   "metadata": {},
   "outputs": [],
   "source": [
    "# Install EasyOCR\n",
    "%%capture\n",
    "!pip install easyocr"
   ]
  },
  {
   "cell_type": "markdown",
   "metadata": {},
   "source": [
    "## Initialize EasyOCR Reader\n",
    "\n",
    "The `EasyOCR` library supports multiple languages. Here, we will initialize the reader with English and Thai.\n",
    "\n",
    "**Note:** This language input is only used for the text *recognition* process but not for the text *detection* process."
   ]
  },
  {
   "cell_type": "code",
   "execution_count": null,
   "metadata": {},
   "outputs": [],
   "source": [
    "from easyocr import Reader\n",
    "\n",
    "# Initialize the EasyOCR reader\n",
    "reader = Reader([\"en\", \"th\"])"
   ]
  },
  {
   "cell_type": "markdown",
   "metadata": {},
   "source": [
    "## Load and Display the Image\n",
    "\n",
    "We will load the our document image and display it using jupyter notebook built-in `display` function."
   ]
  },
  {
   "cell_type": "code",
   "execution_count": null,
   "metadata": {},
   "outputs": [],
   "source": [
    "from PIL import Image\n",
    "\n",
    "# Load the image from a path\n",
    "image_path = \"path/to/image.jpg\"\n",
    "image = Image.open(image_path)\n",
    "\n",
    "display(image)"
   ]
  },
  {
   "cell_type": "markdown",
   "metadata": {},
   "source": [
    "## Perform Text Detection\n",
    "\n",
    "We will use the `readtext` method from the `EasyOCR` reader to detect text in the image. This method returns a list of results, where each result contains the bounding box, the detected text, and the confidence score.\n",
    "\n",
    "```py\n",
    "[[[x1, y1], [x2, y2], [x3, y3], [x4, y4]], 'Detected Text', 0.99]\n",
    "```"
   ]
  },
  {
   "cell_type": "code",
   "execution_count": null,
   "metadata": {},
   "outputs": [],
   "source": [
    "# Perform text detection\n",
    "results = reader.readtext(image_path)\n",
    "\n",
    "# Print first result just to see the output\n",
    "bbox, text, confidence_score = results[0]\n",
    "\n",
    "print(f\"Text: {text}\")\n",
    "print(f\"Confidence score: {confidence_score}\")\n",
    "print(f\"Bounding box: {bbox}\")"
   ]
  },
  {
   "cell_type": "markdown",
   "metadata": {},
   "source": [
    "## Draw Bounding Boxes and Display the Image with Predictions\n",
    "\n",
    "We will draw the bounding boxes around the detected text and display the image with the text predictions."
   ]
  },
  {
   "cell_type": "code",
   "execution_count": null,
   "metadata": {},
   "outputs": [],
   "source": [
    "from PIL import ImageDraw, ImageFont\n",
    "\n",
    "FONT = ImageFont.truetype(\"../assets/THSarabun.ttf\", size=20)\n",
    "\n",
    "\n",
    "def draw_boxes(image: Image.Image, results: list[tuple[int, int, int, int], str, float]) -> None:\n",
    "    \"\"\"Draw bounding boxes and its information on the image.\"\"\"\n",
    "    # Create a drawing object\n",
    "    draw = ImageDraw.Draw(image)\n",
    "\n",
    "    # Draw each result on the image.\n",
    "    for result in results:\n",
    "        # Unpack the result.\n",
    "        bbox, text, confidence_score = result\n",
    "\n",
    "        # bbox is a four-point coordinate of the bounding box. [[x1, y1], [x2, y2], [x3, y3], [x4, y4]]\n",
    "        # we need to convert it to PIL coordinates to draw the rectangle.\n",
    "        # which is only two points, top-left and bottom-right. [x1, y1, x2, y2]\n",
    "\n",
    "        pil_bbox = [bbox[0][0], bbox[0][1], bbox[2][0], bbox[2][1]]\n",
    "\n",
    "        # 1. Draw the bounding box\n",
    "        draw.rectangle(pil_bbox, outline=\"blue\", width=2)\n",
    "        # 2. Draw the text and confidence score e.g. 'Hello (0.72)'\n",
    "        draw_text = f\"{text} ({confidence_score:.2f})\"\n",
    "\n",
    "        # Place text at the top-left of the bounding box and shift it up by 20 pixels\n",
    "        x = pil_bbox[0]\n",
    "        y = pil_bbox[1] - 20\n",
    "        draw.text((x, y), draw_text, fill=\"red\", font=FONT)\n",
    "\n",
    "\n",
    "# Create a copy of the image to draw on\n",
    "image_with_boxes = image.copy()\n",
    "draw_boxes(image_with_boxes, results)\n",
    "\n",
    "display(image_with_boxes)"
   ]
  },
  {
   "cell_type": "markdown",
   "metadata": {},
   "source": [
    "## Advanced"
   ]
  },
  {
   "cell_type": "markdown",
   "metadata": {},
   "source": [
    "We can use `easyocr.Reader` to perform only text detection task by using the `detect` method. This allows us to use custom text recognition model rather than easyocr's default model."
   ]
  },
  {
   "cell_type": "code",
   "execution_count": null,
   "metadata": {},
   "outputs": [],
   "source": [
    "from easyocr import Reader\n",
    "\n",
    "# Initialize the EasyOCR reader\n",
    "detector = Reader([])  # Don't need to specify any languages because we only need to detect the text regions\n",
    "\n",
    "# Perform text detection\n",
    "batch_regions, _ = detector.detect(image_path)\n",
    "\n",
    "# Because we only inference single image, we only need the first result\n",
    "regions = batch_regions[0]"
   ]
  },
  {
   "cell_type": "code",
   "execution_count": null,
   "metadata": {},
   "outputs": [],
   "source": [
    "# Print first result just to see the output\n",
    "bbox = regions[0]\n",
    "\n",
    "print(f\"Bounding box: {bbox}\")"
   ]
  },
  {
   "cell_type": "markdown",
   "metadata": {},
   "source": [
    "Now we can draw the bounding boxes."
   ]
  },
  {
   "cell_type": "code",
   "execution_count": null,
   "metadata": {},
   "outputs": [],
   "source": [
    "from PIL import ImageDraw\n",
    "\n",
    "# Create a copy of the image to draw on\n",
    "image_with_boxes = image.copy()\n",
    "\n",
    "# Create a drawing object\n",
    "draw = ImageDraw.Draw(image_with_boxes)\n",
    "\n",
    "# Draw each region on the image\n",
    "for region in regions:\n",
    "    # Rearrange the region to match the PIL coordinate system\n",
    "    region = [region[0], region[2], region[1], region[3]]\n",
    "    draw.rectangle(region, outline=\"blue\", width=2)\n",
    "\n",
    "display(image_with_boxes)"
   ]
  }
 ],
 "metadata": {
  "kernelspec": {
   "display_name": "Python 3",
   "language": "python",
   "name": "python3"
  },
  "language_info": {
   "codemirror_mode": {
    "name": "ipython",
    "version": 3
   },
   "file_extension": ".py",
   "mimetype": "text/x-python",
   "name": "python",
   "nbconvert_exporter": "python",
   "pygments_lexer": "ipython3",
   "version": "3.8.8"
  }
 },
 "nbformat": 4,
 "nbformat_minor": 4
}
