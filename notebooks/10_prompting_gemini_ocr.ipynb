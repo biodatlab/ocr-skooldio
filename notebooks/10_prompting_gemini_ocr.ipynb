{
 "cells": [
  {
   "cell_type": "markdown",
   "id": "806f4d92",
   "metadata": {},
   "source": [
    "## **Prompting with Gemini**"
   ]
  },
  {
   "cell_type": "code",
   "execution_count": null,
   "id": "774b27f7-1d9e-41dd-9498-1db2381c6cca",
   "metadata": {
    "scrolled": true
   },
   "outputs": [],
   "source": [
    "%%capture\n",
    "!pip install google-cloud-aiplatform\n",
    "!pip install -U google-generativeai"
   ]
  },
  {
   "cell_type": "code",
   "execution_count": null,
   "id": "e877876a",
   "metadata": {},
   "outputs": [],
   "source": [
    "import os\n",
    "import json\n",
    "import google.generativeai as genai\n",
    "from vertexai.generative_models import GenerativeModel, Part, Image"
   ]
  },
  {
   "cell_type": "code",
   "execution_count": null,
   "id": "cea0908d-5f9f-4018-9017-982f1ca5b5fc",
   "metadata": {},
   "outputs": [],
   "source": [
    "project_name = \"<project_name>\" # ใส่ชื่อ project ที่นี้\n",
    "credentials = service_account.Credentials.from_service_account_file(\"/path/to/credential.json\") # ใส่ path ไปยัง JSON file ที่นี่\n",
    "aiplatform.init(project=project_name, credentials=credentials)"
   ]
  },
  {
   "cell_type": "code",
   "execution_count": null,
   "id": "0b2e0d9f",
   "metadata": {},
   "outputs": [],
   "source": [
    "def get_response(prompt, model_name=\"gemini-1.5-flash\"):\n",
    "    \"\"\"\n",
    "    ฟังก์ชันสำหรับรับคำตอบจากโมเดล AI\n",
    "    \n",
    "    Args:\n",
    "    prompt (str): คำถามหรือข้อความที่ต้องการให้ AI ตอบ\n",
    "    model_name (str): ชื่อของโมเดลที่ต้องการใช้ (ค่าเริ่มต้นคือ \"gemini-1.5-flash\")\n",
    "    \n",
    "    Returns:\n",
    "    str: ข้อความตอบกลับจาก AI\n",
    "    \"\"\"\n",
    "    model = GenerativeModel(model_name)\n",
    "    response = model.generate_content(prompt)\n",
    "    return response.text"
   ]
  },
  {
   "cell_type": "code",
   "execution_count": null,
   "id": "70639d33",
   "metadata": {},
   "outputs": [],
   "source": [
    "get_response(\"Why is sky blue?\")"
   ]
  },
  {
   "cell_type": "markdown",
   "id": "e4a51e01",
   "metadata": {},
   "source": [
    "## **Multimodal Prompting with Gemini**\n",
    "\n",
    "เราสามารถใช้ Multimodal capability ของ Gemini เพื่อใช้ทำ OCR แบบรวดเร็วเพื่อวัดผลเบื้องต้นได้\n",
    "\n",
    "อ่านเพิ่มเติม:\n",
    "- https://cloud.google.com/vertex-ai/generative-ai/docs/samples/generativeaionvertexai-gemini-all-modalities#generativeaionvertexai_gemini_all_modalities-python\n",
    "- https://cloud.google.com/vertex-ai/generative-ai/docs/reference/python/latest/vertexai.vision_models.Image"
   ]
  },
  {
   "cell_type": "code",
   "execution_count": null,
   "id": "d0280412",
   "metadata": {},
   "outputs": [],
   "source": [
    "def get_response_with_image(prompt, image_path, model_name=\"gemini-pro-vision\"):\n",
    "    \"\"\"\n",
    "    ฟังก์ชันสำหรับรับคำตอบจากโมเดล AI โดยใช้รูปภาพประกอบ\n",
    "    \n",
    "    Args:\n",
    "    prompt (str): คำถามหรือข้อความที่ต้องการให้ AI ตอบ\n",
    "    image_path (str): พาธของไฟล์รูปภาพ\n",
    "    model_name (str): ชื่อของโมเดลที่ต้องการใช้ (ค่าเริ่มต้นคือ \"gemini-pro-vision\")\n",
    "    \n",
    "    Returns:\n",
    "    str: ข้อความตอบกลับจาก AI\n",
    "    \"\"\"\n",
    "    model = GenerativeModel(model_name)\n",
    "    image = Image.load_from_file(image_path)\n",
    "    # สร้างคำตอบจากโมเดล\n",
    "    response = model.generate_content([image, prompt])\n",
    "    return response.text"
   ]
  },
  {
   "cell_type": "code",
   "execution_count": null,
   "id": "611c9a65",
   "metadata": {},
   "outputs": [],
   "source": [
    "prompt = \"\"\"You are provided with a scanned or photographed image of a Thai vehicle registration book (สมุดทะเบียนรถ). Your task is to extract the following information from the image.The extracted value is typically located on the right side of the key in the document.\n",
    "Extract these details:\n",
    "\n",
    "1. วันจดทะเบียน (date_of_registration)\n",
    "2. เลขทะเบียน (registration_no)\n",
    "3. จังหวัด (car_province)\n",
    "4. ประเภท (vehicle_use)\n",
    "5. รย. (type)\n",
    "6. ลักษณะ (body_style)\n",
    "7. ยี่ห้อรถ (manufacturer)\n",
    "8. แบบ (model)\n",
    "9. รุ่นปี คศ (year)\n",
    "10. สี (color)\n",
    "11. เลขตัวรถ (chassis_number)\n",
    "12. อยู่ที่ (chassis_location)\n",
    "13. ยี่ห้อเครื่องยนต์ (engine_manufacturer)\n",
    "14. เลขเครื่องยนต์ (engine_number)\n",
    "15. อยู่ที่ (engine_location)\n",
    "16. เชื้อเพลิง (fuel_type)\n",
    "17. เลขถังแก๊ส (fuel_tank_number)\n",
    "18. จำนวน (cylinders)\n",
    "19. ซีซี (cubic_capacity)\n",
    "20. แรงม้า (horse_power)\n",
    "21. จำนวนเพลาและล้อ (axles_wheels_no)\n",
    "22. น้ำหนักรถ (unladen_weight)\n",
    "23. น้ำหนักบรรทุก/น้ำหนักเพลา (load_capacity)\n",
    "24. น้ำหนักรวม (gross_weight)\n",
    "25. ที่นั่ง (seats)\n",
    "\n",
    "Instructions:\n",
    "\n",
    "Carefully examine the image and locate each piece of information.\n",
    "If a particular field is not visible or not present in the image, use the value \"N/A\" for that field.\n",
    "Ensure all text extracted from the image is in its original language (Thai or English) as it appears in the document.\n",
    "Return the extracted information in a JSON format, using the English key names provided in parentheses.\n",
    "Only return the JSON output, without any additional explanation or text.\n",
    "\n",
    "Example of expected output format:\n",
    "{\n",
    "  \"date_of_registration\": \"1 ม.ค. 2566\",\n",
    "  \"registration_no\": \"กข 1234\",\n",
    "  \"car_province\": \"กรุงเทพมหานคร\",\n",
    "  ...\n",
    "  \"seats\": \"4\"\n",
    "}\n",
    "\"\"\""
   ]
  },
  {
   "cell_type": "code",
   "execution_count": null,
   "id": "2ea38765-b082-4955-b7a7-f0d9fcae21ec",
   "metadata": {},
   "outputs": [],
   "source": [
    "print(get_response_with_image(prompt, image_path))"
   ]
  },
  {
   "cell_type": "markdown",
   "id": "4eca6182-b701-4dc2-86ad-ba7c526376ff",
   "metadata": {},
   "source": [
    "## Run on all images"
   ]
  },
  {
   "cell_type": "code",
   "execution_count": null,
   "id": "f15f2a94-b214-49c0-b558-907f4222901b",
   "metadata": {},
   "outputs": [],
   "source": [
    "import json\n",
    "from tqdm.auto import tqdm\n",
    "from glob import glob\n",
    "from pathlib import Path\n",
    "import pandas as pd\n",
    "\n",
    "extracted_values = []\n",
    "error_paths = []\n",
    "paths = glob(\"/Users/titipata/Desktop/Misc_docs/OCR_Skooldio/Srisawad_Dataset/*.jpg\")\n",
    "for path in tqdm(paths):\n",
    "    extracted_information = get_response_with_image(prompt, path)\n",
    "    print(f\"path {path} is processed\")\n",
    "    try:\n",
    "        extracted_information = extracted_information.replace(\"```json\", \"\").replace(\"```\", \"\")\n",
    "        extracted_information = json.loads(extracted_information)\n",
    "        extracted_values.append(extracted_information)\n",
    "    except:\n",
    "        error_paths.append(path)\n",
    "        print(f\"Error processing: {path}\")\n",
    "extracted_values_df = pd.DataFrame(extracted_values)"
   ]
  },
  {
   "cell_type": "code",
   "execution_count": null,
   "id": "41bea9c9-f09c-463d-a713-31f224d565c9",
   "metadata": {},
   "outputs": [],
   "source": [
    "extracted_values_df[\"image_path\"] = [Path(p).stem for p in paths]\n",
    "extracted_values_df.to_excel(\"predicted_results_gemini.xlsx\", index=False)\n",
    "# Preview the DataFrame\n",
    "display(extracted_values_df)"
   ]
  },
  {
   "cell_type": "markdown",
   "id": "bec80ced-ba17-46da-83ae-1ecaf6470373",
   "metadata": {},
   "source": [
    "## Evaluation"
   ]
  },
  {
   "cell_type": "code",
   "execution_count": null,
   "id": "bb965f38-1617-40e2-9665-e9870dced482",
   "metadata": {},
   "outputs": [],
   "source": [
    "import numpy as np\n",
    "from torchmetrics.text import CharErrorRate\n",
    "\n",
    "def calculate_cer(preds: list, targets: list):\n",
    "    cer = CharErrorRate() # Initialize the CharErrorRate metric\n",
    "    cer_val = cer(preds, targets) # Calculate CER\n",
    "    return cer_val.tolist()"
   ]
  },
  {
   "cell_type": "code",
   "execution_count": null,
   "id": "920c9745-a57e-4cbf-bddd-d032d10b639d",
   "metadata": {},
   "outputs": [],
   "source": [
    "annotated_df = pd.read_excel('annotated_results.xlsx', dtype=str).fillna(\"\")\n",
    "predicted_df = pd.read_excel('predicted_results_gemini.xlsx', dtype=str).fillna(\"\")\n",
    "\n",
    "columns_of_interest = [\n",
    "    'date_of_registration', 'registration_no', 'car_province', 'vehicle_use', 'type', 'body_style',\n",
    "    'manufacturer', 'model', 'year', 'color', 'chassis_number', 'chassis_location', 'engine_manufacturer',\n",
    "    'engine_number', 'engine_location', 'fuel_type', 'fuel_tank_number', 'cylinders', 'cubic_capacity',\n",
    "    'horse_power', 'axles_wheels_no', 'unladen_weight', 'load_capacity', 'gross_weight', 'seats'\n",
    "]\n",
    "merged_df = pd.merge(annotated_df, predicted_df, on='image_path', suffixes=('_annotation', '_prediction'))"
   ]
  },
  {
   "cell_type": "code",
   "execution_count": null,
   "id": "5aa44e54-eb50-4cf0-8dab-da3e1c66c2fb",
   "metadata": {},
   "outputs": [],
   "source": [
    "eval_list = []\n",
    "for col in columns_of_interest:\n",
    "    if f\"{col}_annotation\" in merged_df.columns and f\"{col}_prediction\" in merged_df.columns:\n",
    "        avg_cer = np.mean(calculate_cer(merged_df[f\"{col}_prediction\"], merged_df[f\"{col}_annotation\"]))\n",
    "        avg_accuracy = (merged_df[f\"{col}_prediction\"] == merged_df[f\"{col}_annotation\"]).mean() * 100\n",
    "        eval_list.append({\n",
    "            \"column_name\": col,\n",
    "            \"cer\": avg_cer,\n",
    "            \"accuracy\": avg_accuracy\n",
    "        })\n",
    "eval_df = pd.DataFrame(eval_list)"
   ]
  },
  {
   "cell_type": "code",
   "execution_count": null,
   "id": "0ee53520-7d40-4252-bd71-07e976b4ee9f",
   "metadata": {},
   "outputs": [],
   "source": [
    "display(eval_df)"
   ]
  }
 ],
 "metadata": {
  "kernelspec": {
   "display_name": "Python 3 (ipykernel)",
   "language": "python",
   "name": "python3"
  },
  "language_info": {
   "codemirror_mode": {
    "name": "ipython",
    "version": 3
   },
   "file_extension": ".py",
   "mimetype": "text/x-python",
   "name": "python",
   "nbconvert_exporter": "python",
   "pygments_lexer": "ipython3",
   "version": "3.12.2"
  }
 },
 "nbformat": 4,
 "nbformat_minor": 5
}
