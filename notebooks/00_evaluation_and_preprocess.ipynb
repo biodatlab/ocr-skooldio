{
 "cells": [
  {
   "cell_type": "markdown",
   "metadata": {},
   "source": [
    "# การประเมินผล OCR (Optical Character Recognition)\n",
    "\n",
    "โน้ตบุ๊กนี้แสดงวิธีการประเมินประสิทธิภาพของระบบ OCR โดยใช้ตัวชี้วัดสองตัว:\n",
    "\n",
    "- CER (Character Error Rate) หรืออัตราความผิดพลาดระดับตัวอักษร\n",
    "- ความแม่นยำ (Accuracy)\n",
    "\n",
    "## ติดตั้งไลบรารีที่จำเป็น"
   ]
  },
  {
   "cell_type": "code",
   "execution_count": null,
   "metadata": {},
   "outputs": [],
   "source": [
    "%%capture\n",
    "!pip install torch\n",
    "!pip install torchmetrics"
   ]
  },
  {
   "cell_type": "markdown",
   "metadata": {},
   "source": [
    "นำเข้าไลบรารีและการกำหนดฟังก์ชัน\n",
    "\n",
    "- สร้างคลาส `CharErrorRate` และ คำนวณความผิดพลาด\n",
    "- หรือใช้ฟังก์ชั่น `char_error_rate` เพื่อคำนวณ CER โดยตรง\n",
    "- สำหรับ accuracy สามารถใช้ `==` เพื่อเทียบ string 2 ตัวได้เลย"
   ]
  },
  {
   "cell_type": "code",
   "execution_count": null,
   "metadata": {},
   "outputs": [],
   "source": [
    "import numpy as np\n",
    "import torch\n",
    "from torchmetrics.text import CharErrorRate\n",
    "\n",
    "def calculate_cer(preds: list, targets: list):\n",
    "    cer = CharErrorRate() # Initialize the CharErrorRate metric\n",
    "    cer_val = cer(preds, targets) # Calculate CER\n",
    "    return cer_val.tolist()"
   ]
  },
  {
   "cell_type": "code",
   "execution_count": null,
   "metadata": {},
   "outputs": [],
   "source": [
    "preds = [\"สวัสดีครับ ยินดีต้อนรับ\"]\n",
    "targets = [\"สวัสดีคับ ยินดีต้อนรบ\"]"
   ]
  },
  {
   "cell_type": "code",
   "execution_count": null,
   "metadata": {},
   "outputs": [],
   "source": [
    "cer = calculate_cer(preds, targets)\n",
    "print(f\"Character Error Rate (CER): {cer:.2%}\")"
   ]
  },
  {
   "cell_type": "code",
   "execution_count": null,
   "metadata": {},
   "outputs": [],
   "source": [
    "# Or use the build-in function to calculate CER\n",
    "from torchmetrics.functional.text import char_error_rate\n",
    "\n",
    "cer_rate = char_error_rate(preds, targets)\n",
    "print(f\"\\nDetailed CER calculation: {cer_rate:.2%}\")"
   ]
  },
  {
   "cell_type": "code",
   "execution_count": null,
   "metadata": {},
   "outputs": [],
   "source": [
    "accuracy = [int(pred == target) for pred, target\n",
    "            in zip(preds, targets)]  # 1 if the strings are equal, 0 otherwise\n",
    "print(f\"\\nAccuracy: {np.mean(accuracy)}\")"
   ]
  },
  {
   "cell_type": "markdown",
   "metadata": {},
   "source": [
    "## Deskew เพื่อปรับภาพให้ตรง"
   ]
  },
  {
   "cell_type": "code",
   "execution_count": null,
   "metadata": {},
   "outputs": [],
   "source": [
    "!pip install deskew"
   ]
  },
  {
   "cell_type": "code",
   "execution_count": null,
   "metadata": {},
   "outputs": [],
   "source": [
    "import os\n",
    "import os.path as op\n",
    "from glob import glob\n",
    "from pathlib import Path\n",
    "from tqdm.auto import tqdm\n",
    "\n",
    "import numpy as np\n",
    "from skimage import io\n",
    "from skimage.color import rgb2gray\n",
    "from skimage.transform import rotate\n",
    "from deskew import determine_skew"
   ]
  },
  {
   "cell_type": "code",
   "execution_count": null,
   "metadata": {},
   "outputs": [],
   "source": [
    "def deskew_image(input_path, output_path):\n",
    "    \"\"\"\n",
    "    ฟังก์ชั่นสำหรับอ่านและหมุนภาพให้ตรงเพื่อใช้สำหรับ OCR\n",
    "    \"\"\"\n",
    "    image = io.imread(input_path) # อ่านภาพจากไฟล์\n",
    "    grayscale = rgb2gray(image) # แปลงเป็นภาพขาวดำ\n",
    "    angle = determine_skew(grayscale) # หามุมเอียงของภาพ\n",
    "    rotated = rotate(image, angle, resize=True) * 255 # หมุนภาพเพื่อแก้ไขความเอียง\n",
    "    # บันทึกภาพที่ผ่านการประมวลผล\n",
    "    io.imsave(output_path, rotated.astype(np.uint8))\n",
    "\n",
    "def process_images(input_dir, output_dir):\n",
    "    \"\"\"\n",
    "    ฟังก์ชันสำหรับประมวลผลภาพทั้งหมดในโฟลเดอร์\n",
    "    \"\"\"\n",
    "    os.makedirs(output_dir, exist_ok=True)\n",
    "    input_paths = glob(os.path.join(input_dir, \"*.png\")) + \\\n",
    "                  glob(os.path.join(input_dir, \"*.jpg\")) + \\\n",
    "                  glob(os.path.join(input_dir, \"*.jpeg\"))\n",
    "    for input_path in tqdm(input_paths):\n",
    "        output_path = op.join(output_dir, f\"{Path(input_path).stem}.png\")\n",
    "        deskew_image(input_path, output_path)"
   ]
  },
  {
   "cell_type": "code",
   "execution_count": null,
   "metadata": {},
   "outputs": [],
   "source": [
    "process_images(\"/path/to/input_folder\", \"output\")"
   ]
  }
 ],
 "metadata": {
  "kernelspec": {
   "display_name": "Python 3 (ipykernel)",
   "language": "python",
   "name": "python3"
  },
  "language_info": {
   "codemirror_mode": {
    "name": "ipython",
    "version": 3
   },
   "file_extension": ".py",
   "mimetype": "text/x-python",
   "name": "python",
   "nbconvert_exporter": "python",
   "pygments_lexer": "ipython3",
   "version": "3.12.2"
  }
 },
 "nbformat": 4,
 "nbformat_minor": 4
}
