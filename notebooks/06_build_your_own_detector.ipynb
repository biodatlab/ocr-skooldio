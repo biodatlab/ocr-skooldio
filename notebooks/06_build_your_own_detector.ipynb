{
 "cells": [
  {
   "cell_type": "markdown",
   "metadata": {},
   "source": [
    "## Building Custom Object Detection Model\n",
    "\n",
    "ใน Notebook นี้เราจะสร้าง Object detection model เองด้วยไลบรารี่ [ultralytics](https://github.com/ultralytics/ultralytics) เพื่อใช้ในการอ่านข้อมูลจำเพาะจากบางบริเวณ"
   ]
  },
  {
   "cell_type": "markdown",
   "metadata": {},
   "source": []
  },
  {
   "cell_type": "markdown",
   "metadata": {},
   "source": [
    "## ใช้ Custom Detection Model ร่วมกับ Recognizer"
   ]
  },
  {
   "cell_type": "markdown",
   "metadata": {},
   "source": []
  }
 ],
 "metadata": {
  "language_info": {
   "name": "python"
  }
 },
 "nbformat": 4,
 "nbformat_minor": 2
}
