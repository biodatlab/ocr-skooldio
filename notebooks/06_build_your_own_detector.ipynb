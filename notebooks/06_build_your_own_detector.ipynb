{
 "cells": [
  {
   "cell_type": "markdown",
   "metadata": {},
   "source": [
    "## Building Custom Object Detection Model\n",
    "\n",
    "ใน Notebook นี้เราจะสร้าง Object detection model เองด้วยไลบรารี่ [ultralytics](https://github.com/ultralytics/ultralytics) เพื่อใช้ในการอ่านข้อมูลจำเพาะจากบางบริเวณ"
   ]
  },
  {
   "cell_type": "code",
   "execution_count": null,
   "metadata": {},
   "outputs": [],
   "source": [
    "!pip install ultralytics"
   ]
  },
  {
   "cell_type": "markdown",
   "metadata": {},
   "source": [
    "## Train Model\n",
    "เราใช้โมเดลตรวจจับวัตถุ YOLOv8 เพื่อฝึกกับชุดข้อมูลที่กำหนดเองใน `dataset_path`."
   ]
  },
  {
   "cell_type": "code",
   "execution_count": 40,
   "metadata": {},
   "outputs": [],
   "source": [
    "from pathlib import Path\n",
    "\n",
    "dataset_path = Path(\"../assets/YOLOv8_ocr/dataset.yaml\").resolve()"
   ]
  },
  {
   "cell_type": "markdown",
   "metadata": {},
   "source": [
    "เราสามารถเปลี่ยนการตั้งค่าต่างๆได้ใน cli ด้านล่าง และเราสามารถดูตัวอย่างการใช้งานได้จาก [configurations](https://docs.ultralytics.com/usage/cfg/#train-settings)"
   ]
  },
  {
   "cell_type": "code",
   "execution_count": null,
   "metadata": {},
   "outputs": [],
   "source": [
    "!yolo task=detect mode=train model=yolov8n.pt data={dataset_path} \\\n",
    "    epochs=300 imgsz=640 plots=True augment=True device=mps\\\n",
    "    mosaic=0.5 flipud=0.0 fliplr=0.0 perspective=0.0001 shear=0.1 \\\n",
    "    degrees=3 translate=0.1 label_smoothing=0.1 mixup=0.1 dropout=0.3"
   ]
  },
  {
   "cell_type": "markdown",
   "metadata": {},
   "source": [
    "## Inference\n",
    "ลองรันโมเดลที่เราสร้างขึ้นมาดูว่ามันสามารถตรวจจับ field ต่างๆได้หรือไม่\n",
    "ซึ่งเราสามารถเปลี่ยนค่าต่างๆได้และสามารถดูตัวอย่างการใช้งานได้จาก [configurations](https://docs.ultralytics.com/modes/predict/#inference-arguments)"
   ]
  },
  {
   "cell_type": "code",
   "execution_count": null,
   "metadata": {},
   "outputs": [],
   "source": [
    "from ultralytics import YOLO\n",
    "from PIL import Image, ImageDraw, ImageFont\n",
    "\n",
    "FONT = ImageFont.truetype(\"../assets/THSarabun.ttf\", 14)\n",
    "\n",
    "# The best model checkpoint is saved in the '../runs/train/trainXX/weights/' path, where XX is the session number\n",
    "checkpoint = Path(\"../runs/detect/train2/weights/best.pt\").resolve()\n",
    "# Load a model from a checkpoint\n",
    "model = YOLO(checkpoint)\n",
    "\n",
    "# Get all image paths to run inference on\n",
    "images = list(Path(\"../assets/YOLOv8_ocr/test/images\").glob(\"*.png\"))\n",
    "\n",
    "# Run batched inference on a list of images\n",
    "results = model.predict(images, imgsz=640, conf=0.25, half=True)\n",
    "\n",
    "# Process results list\n",
    "for result in results:\n",
    "    # Get image and draw boxes\n",
    "    image = Image.fromarray(result.orig_img)\n",
    "    draw = ImageDraw.Draw(image)\n",
    "\n",
    "    # Get bounding boxes, class labels, and scores\n",
    "    class_names = result.names\n",
    "    bboxes = result.boxes.data[:, :4].round().int().numpy()\n",
    "    confidence_scores = result.boxes.conf.float().numpy()\n",
    "    class_predictions = result.boxes.cls.int().numpy()\n",
    "\n",
    "    # Draw bounding boxes and labels on image\n",
    "    for bbox, cls, score in zip(bboxes, class_predictions, confidence_scores):\n",
    "        # Draw bounding box and label\n",
    "        x1, y1, x2, y2 = bbox\n",
    "        predicted_class = class_names[cls]\n",
    "        draw.rectangle([x1, y1, x2, y2], outline=\"red\", width=2)\n",
    "        draw.text((bbox[0], bbox[3]), f\"{predicted_class}: {score:.2f}\", fill=\"red\", font=FONT)\n",
    "\n",
    "    display(image)"
   ]
  }
 ],
 "metadata": {
  "kernelspec": {
   "display_name": ".venv",
   "language": "python",
   "name": "python3"
  },
  "language_info": {
   "codemirror_mode": {
    "name": "ipython",
    "version": 3
   },
   "file_extension": ".py",
   "mimetype": "text/x-python",
   "name": "python",
   "nbconvert_exporter": "python",
   "pygments_lexer": "ipython3",
   "version": "3.10.15"
  }
 },
 "nbformat": 4,
 "nbformat_minor": 2
}
