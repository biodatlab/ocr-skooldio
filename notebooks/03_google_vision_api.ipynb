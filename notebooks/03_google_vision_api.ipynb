{
 "cells": [
  {
   "cell_type": "markdown",
   "metadata": {},
   "source": [
    "# Install the required packages"
   ]
  },
  {
   "cell_type": "code",
   "execution_count": null,
   "metadata": {},
   "outputs": [],
   "source": [
    "# Install google cloud vision\n",
    "%%capture\n",
    "!pip install google-cloud\n",
    "!pip install google-cloud-vision"
   ]
  },
  {
   "cell_type": "markdown",
   "metadata": {},
   "source": [
    "# Set up Google Cloud Project\n",
    "\n",
    "### Step 1: Create a Google Cloud Project\n",
    "Go to the [Google Cloud Console](https://console.cloud.google.com/projectcreate) and create a new project.\n",
    "### Step 2: Enable Cloud Vision API\n",
    "Go to the [Google Vision Wizard Page](https://console.cloud.google.com/apis/credentials/wizard?api=vision.googleapis.com), create a new service account to allow us to access the Cloud Vision API.\n",
    "### Step 3: Create credential JSON key\n",
    "After creating the service account, click on the service account and go to the `Keys` tab. Click on `Add Key` and `Create new key`.\n",
    "### Step 4: Download JSON key\n",
    "The key should be automatically downloaded. This file should be named like `<project_id>-<hash>.json` for example `my-project-1234567890abcdef.json`."
   ]
  },
  {
   "cell_type": "markdown",
   "metadata": {},
   "source": [
    "# Define interface for Google Cloud Vision API\n",
    "\n",
    "Create an GoogleVision class to send image to Google Cloud Vision API"
   ]
  },
  {
   "cell_type": "code",
   "execution_count": null,
   "metadata": {},
   "outputs": [],
   "source": [
    "from google.cloud.vision import ImageAnnotatorClient, Image, EntityAnnotation\n",
    "import PIL.Image as PILImage\n",
    "from PIL import ImageDraw, ImageFont\n",
    "from io import BytesIO\n",
    "\n",
    "FONT = ImageFont.truetype(\"../assets/THSarabun.ttf\", 20)\n",
    "\n",
    "\n",
    "class GoogleVision:\n",
    "    \"\"\"\n",
    "    Google Vision API client\n",
    "\n",
    "    This class allows you to recognize text in an image using Google Vision API.\n",
    "    \"\"\"\n",
    "\n",
    "    def __init__(self, credential_path: str) -> None:\n",
    "        \"\"\"Create a Google Vision API client using the given credential path\"\"\"\n",
    "        self.client: ImageAnnotatorClient = ImageAnnotatorClient.from_service_account_json(credential_path)\n",
    "\n",
    "    def recognize(self, image: PILImage.Image) -> list[EntityAnnotation]:\n",
    "        \"\"\"Detect bounding box and recognize text in an image from the given PIL image\"\"\"\n",
    "        # Convert PIL image to binary\n",
    "        buffered = BytesIO()\n",
    "        image.save(buffered, format=\"PNG\")\n",
    "        image_binary = buffered.getvalue()\n",
    "        # Construct image object\n",
    "        image = Image(content=image_binary)\n",
    "        # Send request to Google Vision API\n",
    "        response = self.client.text_detection(image)\n",
    "        # Handle error.\n",
    "        if response.error.message:\n",
    "            raise Exception(\n",
    "                f\"{response.error.message}\\nFor more info on error messages, check: https://cloud.google.com/apis/design/errors\"\n",
    "            )\n",
    "        # Get all annotations except the first one (all parsed text)\n",
    "        annotations = [\n",
    "            annotation\n",
    "            for idx, annotation in enumerate(response.text_annotations)\n",
    "            if idx != 0\n",
    "        ]\n",
    "        return annotations\n",
    "\n",
    "    @staticmethod\n",
    "    def draw_bbox(\n",
    "        image: PILImage.Image,\n",
    "        annotations: list[EntityAnnotation],\n",
    "        label_offset: int = 20,\n",
    "    ):\n",
    "        \"\"\"Draw bounding box and text on the given image\"\"\"\n",
    "        draw = ImageDraw.Draw(image)\n",
    "        for annotation in annotations:\n",
    "            # Get information in the annotation\n",
    "            text = annotation.description\n",
    "            vertices = [(vertex.x, vertex.y) for vertex in annotation.bounding_poly.vertices]\n",
    "            # Draw bounding box\n",
    "            draw.polygon(vertices, outline=\"blue\")\n",
    "            # Draw text\n",
    "            draw.text(\n",
    "                (vertices[0][0], vertices[0][1] - label_offset),\n",
    "                text,\n",
    "                fill=\"red\",\n",
    "                font=FONT,\n",
    "            )\n",
    "        return image"
   ]
  },
  {
   "cell_type": "code",
   "execution_count": null,
   "metadata": {},
   "outputs": [],
   "source": [
    "# Create an instance of GoogleVision\n",
    "PATH_TO_CREDENTIAL_JSON = \"put/your/credential/here.json\"\n",
    "api = GoogleVision(PATH_TO_CREDENTIAL_JSON)"
   ]
  },
  {
   "cell_type": "markdown",
   "metadata": {},
   "source": [
    "# Load the data\n",
    "We load the receipt to run text detection and recognition on it."
   ]
  },
  {
   "cell_type": "code",
   "execution_count": null,
   "metadata": {},
   "outputs": [],
   "source": [
    "from PIL import Image\n",
    "\n",
    "path = \"path/to/image.jpg\"\n",
    "image = Image.open(path).convert(\"RGB\")\n",
    "display(image)"
   ]
  },
  {
   "cell_type": "markdown",
   "metadata": {},
   "source": [
    "Send the receipt to the Google Cloud Vision API to extract the text from the image."
   ]
  },
  {
   "cell_type": "code",
   "execution_count": null,
   "metadata": {},
   "outputs": [],
   "source": [
    "annotations = api.recognize(image)"
   ]
  },
  {
   "cell_type": "code",
   "execution_count": null,
   "metadata": {},
   "outputs": [],
   "source": [
    "drawn_image = GoogleVision.draw_bbox(image, annotations)\n",
    "display(drawn_image)"
   ]
  }
 ],
 "metadata": {
  "kernelspec": {
   "display_name": "Python 3",
   "language": "python",
   "name": "python3"
  },
  "language_info": {
   "codemirror_mode": {
    "name": "ipython",
    "version": 3
   },
   "file_extension": ".py",
   "mimetype": "text/x-python",
   "name": "python",
   "nbconvert_exporter": "python",
   "pygments_lexer": "ipython3",
   "version": "3.8.8"
  }
 },
 "nbformat": 4,
 "nbformat_minor": 2
}
