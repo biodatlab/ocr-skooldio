{
 "cells": [
  {
   "cell_type": "markdown",
   "metadata": {},
   "source": [
    "# Install the required packages"
   ]
  },
  {
   "cell_type": "code",
   "execution_count": null,
   "metadata": {},
   "outputs": [],
   "source": [
    "%%capture\n",
    "!pip install transformers sentencepiece"
   ]
  },
  {
   "cell_type": "markdown",
   "metadata": {},
   "source": [
    "# Load the LoolooOCR model"
   ]
  },
  {
   "cell_type": "code",
   "execution_count": null,
   "metadata": {},
   "outputs": [],
   "source": [
    "import torch\n",
    "\n",
    "device = \"cpu\"\n",
    "# Use mps if available\n",
    "if torch.backends.mps.is_available():\n",
    "    device = \"mps\"\n",
    "elif torch.cuda.is_available():\n",
    "    device = \"cuda\""
   ]
  },
  {
   "cell_type": "code",
   "execution_count": null,
   "metadata": {},
   "outputs": [],
   "source": [
    "from transformers import VisionEncoderDecoderModel, TrOCRProcessor\n",
    "\n",
    "checkpoint_name = \"our_closed_source_model\"\n",
    "\n",
    "model = VisionEncoderDecoderModel.from_pretrained(checkpoint_name).to(device)\n",
    "processor = TrOCRProcessor.from_pretrained(checkpoint_name)"
   ]
  },
  {
   "cell_type": "markdown",
   "metadata": {},
   "source": [
    "# Load the text detector model"
   ]
  },
  {
   "cell_type": "code",
   "execution_count": null,
   "metadata": {},
   "outputs": [],
   "source": [
    "from easyocr import Reader\n",
    "\n",
    "detector = Reader([])"
   ]
  },
  {
   "cell_type": "markdown",
   "metadata": {},
   "source": [
    "# Load document"
   ]
  },
  {
   "cell_type": "code",
   "execution_count": null,
   "metadata": {},
   "outputs": [],
   "source": [
    "from PIL import Image\n",
    "\n",
    "image_path = \"../datasets/Srisawad Deep Learning/mc_รายการจดทะเบียน_1.jpg\"\n",
    "image = Image.open(image_path).convert(\"RGB\")\n",
    "\n",
    "display(image)"
   ]
  },
  {
   "cell_type": "markdown",
   "metadata": {},
   "source": [
    "# Run the text detector\n",
    "We need to get all the bounding boxes of text before passing it into the recognizer."
   ]
  },
  {
   "cell_type": "code",
   "execution_count": null,
   "metadata": {},
   "outputs": [],
   "source": [
    "from PIL import ImageDraw\n",
    "\n",
    "drawn_image = image.copy()\n",
    "draw = ImageDraw.Draw(drawn_image)\n",
    "\n",
    "batch_regions, _ = detector.detect(image_path)\n",
    "\n",
    "# Becase we only pass in one image, get the first one.\n",
    "regions = batch_regions[0]\n",
    "\n",
    "textboxes = []\n",
    "\n",
    "# Crop the textbox from the image\n",
    "for region in regions:\n",
    "    # Rearrange the region to match the PIL.Image.crop format\n",
    "    region = [region[0], region[2], region[1], region[3]]\n",
    "\n",
    "    # Draw the region on the image\n",
    "    draw.rectangle(region, outline=\"blue\", width=2)\n",
    "\n",
    "    textbox = image.crop(region)\n",
    "    textboxes.append(textbox)\n",
    "\n",
    "display(drawn_image)"
   ]
  },
  {
   "cell_type": "markdown",
   "metadata": {},
   "source": [
    "Let's display some of the example "
   ]
  },
  {
   "cell_type": "code",
   "execution_count": null,
   "metadata": {},
   "outputs": [],
   "source": [
    "for idx, textbox in enumerate(textboxes):\n",
    "    if idx >= 3:\n",
    "        break\n",
    "    display(textbox)"
   ]
  },
  {
   "cell_type": "markdown",
   "metadata": {},
   "source": [
    "# Run inference"
   ]
  },
  {
   "cell_type": "code",
   "execution_count": null,
   "metadata": {},
   "outputs": [],
   "source": [
    "from tqdm import tqdm\n",
    "\n",
    "batch_size = 4\n",
    "\n",
    "# Get divmode\n",
    "quotient, remainder = divmod(len(textboxes), batch_size)\n",
    "total_batches = quotient + (1 if remainder > 0 else 0)\n",
    "\n",
    "predictions = []\n",
    "\n",
    "for idx in tqdm(range(total_batches), desc=\"Batch Inferencing\"):\n",
    "    image_batch = textboxes[idx * batch_size : (idx + 1) * batch_size]\n",
    "\n",
    "    pixel_values = processor(image_batch, return_tensors=\"pt\").pixel_values\n",
    "\n",
    "    outputs = model.generate(pixel_values.to(device))\n",
    "\n",
    "    # Decode the prediction\n",
    "    batch_predictions = processor.batch_decode(outputs, skip_special_tokens=True)\n",
    "    predictions.extend(batch_predictions)"
   ]
  },
  {
   "cell_type": "code",
   "execution_count": null,
   "metadata": {},
   "outputs": [],
   "source": [
    "from PIL import ImageDraw, ImageFont\n",
    "\n",
    "FONT = ImageFont.truetype(\"../assets/THSarabun.ttf\", 20)\n",
    "label_offset = 20\n",
    "\n",
    "drawn_image = image.copy()\n",
    "draw = ImageDraw.Draw(drawn_image)\n",
    "\n",
    "for region, prediction in zip(regions, predictions):\n",
    "    region = [region[0], region[2], region[1], region[3]]\n",
    "    draw.rectangle(region, outline=\"blue\", width=2)\n",
    "    draw.text((region[0], region[1] - label_offset), prediction, fill=\"red\", font=FONT)\n",
    "\n",
    "display(drawn_image)"
   ]
  }
 ],
 "metadata": {
  "kernelspec": {
   "display_name": "Python 3",
   "language": "python",
   "name": "python3"
  },
  "language_info": {
   "codemirror_mode": {
    "name": "ipython",
    "version": 3
   },
   "file_extension": ".py",
   "mimetype": "text/x-python",
   "name": "python",
   "nbconvert_exporter": "python",
   "pygments_lexer": "ipython3",
   "version": "3.8.8"
  }
 },
 "nbformat": 4,
 "nbformat_minor": 2
}
